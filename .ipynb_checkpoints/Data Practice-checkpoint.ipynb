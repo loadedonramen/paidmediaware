{
 "cells": [
  {
   "cell_type": "code",
   "execution_count": 1,
   "id": "9dc029ac-7843-4861-8387-85fd1a891cad",
   "metadata": {},
   "outputs": [],
   "source": [
    "import pandas as pd"
   ]
  },
  {
   "cell_type": "code",
   "execution_count": 17,
   "id": "6b3df013-f2d7-4dd3-a878-6669a59ab2d9",
   "metadata": {},
   "outputs": [],
   "source": [
    "somesheet = {\n",
    "    'Name': ['Campaign1','Campaign2','Campaign3'],\n",
    "    'Adgroup name': ['Adgroup1', 'Adgroup2', 'Adgroup3'],\n",
    "    'City': ['New York', 'Los Angeles', 'Chicago']\n",
    "}"
   ]
  },
  {
   "cell_type": "code",
   "execution_count": 18,
   "id": "a1eb482c-8179-421c-8037-51efc14f8fce",
   "metadata": {},
   "outputs": [],
   "source": [
    "df = pd.DataFrame(somesheet)"
   ]
  },
  {
   "cell_type": "code",
   "execution_count": 19,
   "id": "71b36f8d-4264-44a9-bb1a-78021f8bb402",
   "metadata": {},
   "outputs": [
    {
     "data": {
      "text/html": [
       "<div>\n",
       "<style scoped>\n",
       "    .dataframe tbody tr th:only-of-type {\n",
       "        vertical-align: middle;\n",
       "    }\n",
       "\n",
       "    .dataframe tbody tr th {\n",
       "        vertical-align: top;\n",
       "    }\n",
       "\n",
       "    .dataframe thead th {\n",
       "        text-align: right;\n",
       "    }\n",
       "</style>\n",
       "<table border=\"1\" class=\"dataframe\">\n",
       "  <thead>\n",
       "    <tr style=\"text-align: right;\">\n",
       "      <th></th>\n",
       "      <th>Name</th>\n",
       "      <th>Adgroup name</th>\n",
       "      <th>City</th>\n",
       "    </tr>\n",
       "  </thead>\n",
       "  <tbody>\n",
       "    <tr>\n",
       "      <th>0</th>\n",
       "      <td>Campaign1</td>\n",
       "      <td>Adgroup1</td>\n",
       "      <td>New York</td>\n",
       "    </tr>\n",
       "    <tr>\n",
       "      <th>1</th>\n",
       "      <td>Campaign2</td>\n",
       "      <td>Adgroup2</td>\n",
       "      <td>Los Angeles</td>\n",
       "    </tr>\n",
       "    <tr>\n",
       "      <th>2</th>\n",
       "      <td>Campaign3</td>\n",
       "      <td>Adgroup3</td>\n",
       "      <td>Chicago</td>\n",
       "    </tr>\n",
       "  </tbody>\n",
       "</table>\n",
       "</div>"
      ],
      "text/plain": [
       "        Name Adgroup name         City\n",
       "0  Campaign1     Adgroup1     New York\n",
       "1  Campaign2     Adgroup2  Los Angeles\n",
       "2  Campaign3     Adgroup3      Chicago"
      ]
     },
     "execution_count": 19,
     "metadata": {},
     "output_type": "execute_result"
    }
   ],
   "source": [
    "df"
   ]
  },
  {
   "cell_type": "code",
   "execution_count": 20,
   "id": "82a18459-2aeb-421e-91bc-e4914d3fde9c",
   "metadata": {},
   "outputs": [],
   "source": [
    "df['Keywords'] = ['PEI','PDI','APAC']"
   ]
  },
  {
   "cell_type": "code",
   "execution_count": 21,
   "id": "93a868a7-76fc-41b5-9fc5-a7e21eff138f",
   "metadata": {},
   "outputs": [
    {
     "data": {
      "text/html": [
       "<div>\n",
       "<style scoped>\n",
       "    .dataframe tbody tr th:only-of-type {\n",
       "        vertical-align: middle;\n",
       "    }\n",
       "\n",
       "    .dataframe tbody tr th {\n",
       "        vertical-align: top;\n",
       "    }\n",
       "\n",
       "    .dataframe thead th {\n",
       "        text-align: right;\n",
       "    }\n",
       "</style>\n",
       "<table border=\"1\" class=\"dataframe\">\n",
       "  <thead>\n",
       "    <tr style=\"text-align: right;\">\n",
       "      <th></th>\n",
       "      <th>Name</th>\n",
       "      <th>Adgroup name</th>\n",
       "      <th>City</th>\n",
       "      <th>Keywords</th>\n",
       "    </tr>\n",
       "  </thead>\n",
       "  <tbody>\n",
       "    <tr>\n",
       "      <th>0</th>\n",
       "      <td>Campaign1</td>\n",
       "      <td>Adgroup1</td>\n",
       "      <td>New York</td>\n",
       "      <td>PEI</td>\n",
       "    </tr>\n",
       "    <tr>\n",
       "      <th>1</th>\n",
       "      <td>Campaign2</td>\n",
       "      <td>Adgroup2</td>\n",
       "      <td>Los Angeles</td>\n",
       "      <td>PDI</td>\n",
       "    </tr>\n",
       "    <tr>\n",
       "      <th>2</th>\n",
       "      <td>Campaign3</td>\n",
       "      <td>Adgroup3</td>\n",
       "      <td>Chicago</td>\n",
       "      <td>APAC</td>\n",
       "    </tr>\n",
       "  </tbody>\n",
       "</table>\n",
       "</div>"
      ],
      "text/plain": [
       "        Name Adgroup name         City Keywords\n",
       "0  Campaign1     Adgroup1     New York      PEI\n",
       "1  Campaign2     Adgroup2  Los Angeles      PDI\n",
       "2  Campaign3     Adgroup3      Chicago     APAC"
      ]
     },
     "execution_count": 21,
     "metadata": {},
     "output_type": "execute_result"
    }
   ],
   "source": [
    "df"
   ]
  },
  {
   "cell_type": "code",
   "execution_count": 22,
   "id": "d38de03c-9ca2-47b2-8123-cc0ba1eb5afb",
   "metadata": {},
   "outputs": [],
   "source": [
    "df['newcolumn']=''"
   ]
  },
  {
   "cell_type": "code",
   "execution_count": 23,
   "id": "86123b4a-f504-4da0-ad19-ad50e4c9ebf8",
   "metadata": {},
   "outputs": [
    {
     "data": {
      "text/html": [
       "<div>\n",
       "<style scoped>\n",
       "    .dataframe tbody tr th:only-of-type {\n",
       "        vertical-align: middle;\n",
       "    }\n",
       "\n",
       "    .dataframe tbody tr th {\n",
       "        vertical-align: top;\n",
       "    }\n",
       "\n",
       "    .dataframe thead th {\n",
       "        text-align: right;\n",
       "    }\n",
       "</style>\n",
       "<table border=\"1\" class=\"dataframe\">\n",
       "  <thead>\n",
       "    <tr style=\"text-align: right;\">\n",
       "      <th></th>\n",
       "      <th>Name</th>\n",
       "      <th>Adgroup name</th>\n",
       "      <th>City</th>\n",
       "      <th>Keywords</th>\n",
       "      <th>newcolumn</th>\n",
       "    </tr>\n",
       "  </thead>\n",
       "  <tbody>\n",
       "    <tr>\n",
       "      <th>0</th>\n",
       "      <td>Campaign1</td>\n",
       "      <td>Adgroup1</td>\n",
       "      <td>New York</td>\n",
       "      <td>PEI</td>\n",
       "      <td></td>\n",
       "    </tr>\n",
       "    <tr>\n",
       "      <th>1</th>\n",
       "      <td>Campaign2</td>\n",
       "      <td>Adgroup2</td>\n",
       "      <td>Los Angeles</td>\n",
       "      <td>PDI</td>\n",
       "      <td></td>\n",
       "    </tr>\n",
       "    <tr>\n",
       "      <th>2</th>\n",
       "      <td>Campaign3</td>\n",
       "      <td>Adgroup3</td>\n",
       "      <td>Chicago</td>\n",
       "      <td>APAC</td>\n",
       "      <td></td>\n",
       "    </tr>\n",
       "  </tbody>\n",
       "</table>\n",
       "</div>"
      ],
      "text/plain": [
       "        Name Adgroup name         City Keywords newcolumn\n",
       "0  Campaign1     Adgroup1     New York      PEI          \n",
       "1  Campaign2     Adgroup2  Los Angeles      PDI          \n",
       "2  Campaign3     Adgroup3      Chicago     APAC          "
      ]
     },
     "execution_count": 23,
     "metadata": {},
     "output_type": "execute_result"
    }
   ],
   "source": [
    "df.loc[]"
   ]
  },
  {
   "cell_type": "code",
   "execution_count": 25,
   "id": "31ecf978-3f63-4f8d-b92b-98f2925789a2",
   "metadata": {},
   "outputs": [],
   "source": [
    "df.loc[2,'newcolumn']= 'Something'"
   ]
  },
  {
   "cell_type": "code",
   "execution_count": 26,
   "id": "ace671b3-7ee3-43bb-8fdb-b3009e2dc64c",
   "metadata": {},
   "outputs": [
    {
     "data": {
      "text/html": [
       "<div>\n",
       "<style scoped>\n",
       "    .dataframe tbody tr th:only-of-type {\n",
       "        vertical-align: middle;\n",
       "    }\n",
       "\n",
       "    .dataframe tbody tr th {\n",
       "        vertical-align: top;\n",
       "    }\n",
       "\n",
       "    .dataframe thead th {\n",
       "        text-align: right;\n",
       "    }\n",
       "</style>\n",
       "<table border=\"1\" class=\"dataframe\">\n",
       "  <thead>\n",
       "    <tr style=\"text-align: right;\">\n",
       "      <th></th>\n",
       "      <th>Name</th>\n",
       "      <th>Adgroup name</th>\n",
       "      <th>City</th>\n",
       "      <th>Keywords</th>\n",
       "      <th>newcolumn</th>\n",
       "    </tr>\n",
       "  </thead>\n",
       "  <tbody>\n",
       "    <tr>\n",
       "      <th>0</th>\n",
       "      <td>Campaign1</td>\n",
       "      <td>Adgroup1</td>\n",
       "      <td>New York</td>\n",
       "      <td>PEI</td>\n",
       "      <td></td>\n",
       "    </tr>\n",
       "    <tr>\n",
       "      <th>1</th>\n",
       "      <td>Campaign2</td>\n",
       "      <td>Adgroup2</td>\n",
       "      <td>Los Angeles</td>\n",
       "      <td>PDI</td>\n",
       "      <td></td>\n",
       "    </tr>\n",
       "    <tr>\n",
       "      <th>2</th>\n",
       "      <td>Campaign3</td>\n",
       "      <td>Adgroup3</td>\n",
       "      <td>Chicago</td>\n",
       "      <td>APAC</td>\n",
       "      <td>Something</td>\n",
       "    </tr>\n",
       "  </tbody>\n",
       "</table>\n",
       "</div>"
      ],
      "text/plain": [
       "        Name Adgroup name         City Keywords  newcolumn\n",
       "0  Campaign1     Adgroup1     New York      PEI           \n",
       "1  Campaign2     Adgroup2  Los Angeles      PDI           \n",
       "2  Campaign3     Adgroup3      Chicago     APAC  Something"
      ]
     },
     "execution_count": 26,
     "metadata": {},
     "output_type": "execute_result"
    }
   ],
   "source": [
    "\n",
    "df"
   ]
  },
  {
   "cell_type": "code",
   "execution_count": 28,
   "id": "370a7917-8cc9-42c8-8621-e854160084f2",
   "metadata": {},
   "outputs": [
    {
     "data": {
      "text/plain": [
       "'APAC'"
      ]
     },
     "execution_count": 28,
     "metadata": {},
     "output_type": "execute_result"
    }
   ],
   "source": [
    "df['']"
   ]
  },
  {
   "cell_type": "code",
   "execution_count": 31,
   "id": "1340fa0f-a8f8-4eed-8661-f38245ac247e",
   "metadata": {},
   "outputs": [],
   "source": [
    "df.set_index('Name',inplace=True)"
   ]
  },
  {
   "cell_type": "code",
   "execution_count": 32,
   "id": "a671289b-e3f8-43d1-b60c-1503c80db121",
   "metadata": {},
   "outputs": [
    {
     "data": {
      "text/html": [
       "<div>\n",
       "<style scoped>\n",
       "    .dataframe tbody tr th:only-of-type {\n",
       "        vertical-align: middle;\n",
       "    }\n",
       "\n",
       "    .dataframe tbody tr th {\n",
       "        vertical-align: top;\n",
       "    }\n",
       "\n",
       "    .dataframe thead th {\n",
       "        text-align: right;\n",
       "    }\n",
       "</style>\n",
       "<table border=\"1\" class=\"dataframe\">\n",
       "  <thead>\n",
       "    <tr style=\"text-align: right;\">\n",
       "      <th></th>\n",
       "      <th>Adgroup name</th>\n",
       "      <th>City</th>\n",
       "      <th>Keywords</th>\n",
       "      <th>newcolumn</th>\n",
       "    </tr>\n",
       "    <tr>\n",
       "      <th>Name</th>\n",
       "      <th></th>\n",
       "      <th></th>\n",
       "      <th></th>\n",
       "      <th></th>\n",
       "    </tr>\n",
       "  </thead>\n",
       "  <tbody>\n",
       "    <tr>\n",
       "      <th>Campaign1</th>\n",
       "      <td>Adgroup1</td>\n",
       "      <td>New York</td>\n",
       "      <td>PEI</td>\n",
       "      <td></td>\n",
       "    </tr>\n",
       "    <tr>\n",
       "      <th>Campaign2</th>\n",
       "      <td>Adgroup2</td>\n",
       "      <td>Los Angeles</td>\n",
       "      <td>PDI</td>\n",
       "      <td></td>\n",
       "    </tr>\n",
       "    <tr>\n",
       "      <th>Campaign3</th>\n",
       "      <td>Adgroup3</td>\n",
       "      <td>Chicago</td>\n",
       "      <td>APAC</td>\n",
       "      <td>Something</td>\n",
       "    </tr>\n",
       "  </tbody>\n",
       "</table>\n",
       "</div>"
      ],
      "text/plain": [
       "          Adgroup name         City Keywords  newcolumn\n",
       "Name                                                   \n",
       "Campaign1     Adgroup1     New York      PEI           \n",
       "Campaign2     Adgroup2  Los Angeles      PDI           \n",
       "Campaign3     Adgroup3      Chicago     APAC  Something"
      ]
     },
     "execution_count": 32,
     "metadata": {},
     "output_type": "execute_result"
    }
   ],
   "source": [
    "df"
   ]
  },
  {
   "cell_type": "code",
   "execution_count": null,
   "id": "8a800c6e-f19f-4a74-ad38-75ee93932810",
   "metadata": {},
   "outputs": [],
   "source": []
  },
  {
   "cell_type": "code",
   "execution_count": 33,
   "id": "bb6c1f1e-dbcc-40c3-9e35-e6bf40fa7689",
   "metadata": {},
   "outputs": [
    {
     "data": {
      "text/plain": [
       "'Los Angeles'"
      ]
     },
     "execution_count": 33,
     "metadata": {},
     "output_type": "execute_result"
    }
   ],
   "source": [
    "df.loc['Campaign2','City']"
   ]
  },
  {
   "cell_type": "code",
   "execution_count": null,
   "id": "8fb87732-3721-4fcf-aa6a-37955c0d1103",
   "metadata": {},
   "outputs": [],
   "source": [
    "'TH'"
   ]
  }
 ],
 "metadata": {
  "kernelspec": {
   "display_name": "Python 3 (ipykernel)",
   "language": "python",
   "name": "python3"
  },
  "language_info": {
   "codemirror_mode": {
    "name": "ipython",
    "version": 3
   },
   "file_extension": ".py",
   "mimetype": "text/x-python",
   "name": "python",
   "nbconvert_exporter": "python",
   "pygments_lexer": "ipython3",
   "version": "3.13.2"
  }
 },
 "nbformat": 4,
 "nbformat_minor": 5
}
